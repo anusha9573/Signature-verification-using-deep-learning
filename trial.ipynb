{
  "nbformat": 4,
  "nbformat_minor": 0,
  "metadata": {
    "colab": {
      "name": "trial.ipynb",
      "version": "0.3.2",
      "views": {},
      "default_view": {},
      "provenance": [],
      "collapsed_sections": []
    }
  },
  "cells": [
    {
      "metadata": {
        "id": "Oz-G59BaTIJD",
        "colab_type": "code",
        "colab": {
          "autoexec": {
            "startup": false,
            "wait_interval": 0
          },
          "base_uri": "https://localhost:8080/",
          "height": 204
        },
        "outputId": "fffc0887-d70a-43f0-fae2-b6fffd77a363",
        "executionInfo": {
          "status": "ok",
          "timestamp": 1523778546072,
          "user_tz": -330,
          "elapsed": 33848,
          "user": {
            "displayName": "Vaibhav Jade",
            "photoUrl": "https://lh3.googleusercontent.com/a/default-user=s128",
            "userId": "112426218802661198208"
          }
        }
      },
      "cell_type": "code",
      "source": [
        "!wget http://www.iapr-tc11.org/dataset/ICDAR_SignatureVerification/SigComp2011/sigComp2011-trainingSet.zip"
      ],
      "execution_count": 0,
      "outputs": [
        {
          "output_type": "stream",
          "text": [
            "--2018-04-15 07:48:41--  http://www.iapr-tc11.org/dataset/ICDAR_SignatureVerification/SigComp2011/sigComp2011-trainingSet.zip\n",
            "Resolving www.iapr-tc11.org (www.iapr-tc11.org)... 157.16.221.56\n",
            "Connecting to www.iapr-tc11.org (www.iapr-tc11.org)|157.16.221.56|:80... connected.\n",
            "HTTP request sent, awaiting response... 200 OK\n",
            "Length: 245154271 (234M) [application/zip]\n",
            "Saving to: ‘sigComp2011-trainingSet.zip’\n",
            "\n",
            "sigComp2011-trainin 100%[===================>] 233.80M  8.55MB/s    in 31s     \n",
            "\n",
            "2018-04-15 07:49:12 (7.53 MB/s) - ‘sigComp2011-trainingSet.zip’ saved [245154271/245154271]\n",
            "\n"
          ],
          "name": "stdout"
        }
      ]
    },
    {
      "metadata": {
        "id": "F6gojpJRnSWh",
        "colab_type": "code",
        "colab": {
          "autoexec": {
            "startup": false,
            "wait_interval": 0
          },
          "base_uri": "https://localhost:8080/",
          "height": 224
        },
        "outputId": "22af8f3d-d454-45cd-f68c-4e8abafa4350",
        "executionInfo": {
          "status": "ok",
          "timestamp": 1525795098082,
          "user_tz": -330,
          "elapsed": 72367,
          "user": {
            "displayName": "Vaibhav Jade",
            "photoUrl": "https://lh3.googleusercontent.com/a/default-user=s128",
            "userId": "112426218802661198208"
          }
        }
      },
      "cell_type": "code",
      "source": [
        "!wget http://www.iapr-tc11.org/dataset/ICDAR_SignatureVerification/SigComp2011/sigComp2011-test.zip"
      ],
      "execution_count": 1,
      "outputs": [
        {
          "output_type": "stream",
          "text": [
            "--2018-05-08 15:57:16--  http://www.iapr-tc11.org/dataset/ICDAR_SignatureVerification/SigComp2011/sigComp2011-test.zip\n",
            "Resolving www.iapr-tc11.org (www.iapr-tc11.org)... 157.16.221.56\n",
            "Connecting to www.iapr-tc11.org (www.iapr-tc11.org)|157.16.221.56|:80... connected.\n",
            "HTTP request sent, awaiting response... 200 OK\n",
            "Length: 566029024 (540M) [application/zip]\n",
            "Saving to: ‘sigComp2011-test.zip’\n",
            "\n",
            "sigComp2011-test.zi  62%[===========>        ] 336.54M  7.69MB/s    eta 27s    "
          ],
          "name": "stdout"
        },
        {
          "output_type": "stream",
          "text": [
            "sigComp2011-test.zi 100%[===================>] 539.81M  8.26MB/s    in 70s     \n",
            "\n",
            "2018-05-08 15:58:26 (7.76 MB/s) - ‘sigComp2011-test.zip’ saved [566029024/566029024]\n",
            "\n"
          ],
          "name": "stdout"
        }
      ]
    },
    {
      "metadata": {
        "id": "sDiF1DS4-ZpH",
        "colab_type": "code",
        "colab": {
          "autoexec": {
            "startup": false,
            "wait_interval": 0
          },
          "base_uri": "https://localhost:8080/",
          "height": 180
        },
        "outputId": "d5b09165-3868-40ff-c85b-9f4c6be01223",
        "executionInfo": {
          "status": "error",
          "timestamp": 1526552758840,
          "user_tz": -330,
          "elapsed": 10392,
          "user": {
            "displayName": "Vaibhav Jade",
            "photoUrl": "https://lh3.googleusercontent.com/a/default-user=s128",
            "userId": "112426218802661198208"
          }
        }
      },
      "cell_type": "code",
      "source": [
        "import os\n",
        "os.chdir('drive')"
      ],
      "execution_count": 1,
      "outputs": [
        {
          "output_type": "error",
          "ename": "OSError",
          "evalue": "ignored",
          "traceback": [
            "\u001b[0;31m\u001b[0m",
            "\u001b[0;31mOSError\u001b[0mTraceback (most recent call last)",
            "\u001b[0;32m<ipython-input-1-671777445fb0>\u001b[0m in \u001b[0;36m<module>\u001b[0;34m()\u001b[0m\n\u001b[1;32m      1\u001b[0m \u001b[0;32mimport\u001b[0m \u001b[0mos\u001b[0m\u001b[0;34m\u001b[0m\u001b[0m\n\u001b[0;32m----> 2\u001b[0;31m \u001b[0mos\u001b[0m\u001b[0;34m.\u001b[0m\u001b[0mchdir\u001b[0m\u001b[0;34m(\u001b[0m\u001b[0;34m'drive'\u001b[0m\u001b[0;34m)\u001b[0m\u001b[0;34m\u001b[0m\u001b[0m\n\u001b[0m",
            "\u001b[0;31mOSError\u001b[0m: [Errno 2] No such file or directory: 'drive'"
          ]
        }
      ]
    },
    {
      "metadata": {
        "id": "qTYRF2NtQCcE",
        "colab_type": "code",
        "colab": {
          "autoexec": {
            "startup": false,
            "wait_interval": 0
          },
          "base_uri": "https://localhost:8080/",
          "height": 34
        },
        "outputId": "855b6d1e-831d-4ef3-b497-00f20442bdf5",
        "executionInfo": {
          "status": "ok",
          "timestamp": 1526574761500,
          "user_tz": -330,
          "elapsed": 4239,
          "user": {
            "displayName": "Vaibhav Jade",
            "photoUrl": "https://lh3.googleusercontent.com/a/default-user=s128",
            "userId": "112426218802661198208"
          }
        }
      },
      "cell_type": "code",
      "source": [
        "!ls"
      ],
      "execution_count": 3,
      "outputs": [
        {
          "output_type": "stream",
          "text": [
            "datalab\r\n"
          ],
          "name": "stdout"
        }
      ]
    },
    {
      "metadata": {
        "id": "ZH2-WZ7hp1ry",
        "colab_type": "code",
        "colab": {
          "autoexec": {
            "startup": false,
            "wait_interval": 0
          }
        }
      },
      "cell_type": "code",
      "source": [
        "import zipfile\n",
        "zip_ref = zipfile.ZipFile('sigComp2011-test.zip', 'r')\n",
        "zip_ref.extractall('drive',pwd='I hereby accept the SigComp 2011 disclaimer.')\n",
        "zip_ref.close()"
      ],
      "execution_count": 0,
      "outputs": []
    },
    {
      "metadata": {
        "id": "OUVsjCQh-Lh8",
        "colab_type": "code",
        "colab": {
          "autoexec": {
            "startup": false,
            "wait_interval": 0
          }
        }
      },
      "cell_type": "code",
      "source": [
        "import numpy as np\n",
        "from PIL import Image\n",
        "import pickle\n",
        "import os\n",
        "import pickle"
      ],
      "execution_count": 0,
      "outputs": []
    },
    {
      "metadata": {
        "id": "agIpbkmKDqTR",
        "colab_type": "code",
        "colab": {
          "autoexec": {
            "startup": false,
            "wait_interval": 0
          }
        }
      },
      "cell_type": "code",
      "source": [
        "import cv2"
      ],
      "execution_count": 0,
      "outputs": []
    },
    {
      "metadata": {
        "id": "X48qgr1q-9Gc",
        "colab_type": "code",
        "colab": {
          "autoexec": {
            "startup": false,
            "wait_interval": 0
          }
        }
      },
      "cell_type": "code",
      "source": [
        "def Center(img, new_height, new_width):\n",
        "    cImg = 255*np.ones((new_height,new_width,1))\n",
        "    width =  np.size(img,1)\n",
        "    height = np.size(img,0)\n",
        "\n",
        "    left = int((new_width - width)/2.)\n",
        "    top = int(((new_height - height)/2.))\n",
        "    right = int(((width + new_width)/2.))\n",
        "    bottom = int(((height + new_height)/2.))\n",
        "    cImg[top:bottom, left:right,:] = img\n",
        "    return cImg"
      ],
      "execution_count": 0,
      "outputs": []
    },
    {
      "metadata": {
        "id": "bkX-7OIMgwg2",
        "colab_type": "code",
        "colab": {
          "autoexec": {
            "startup": false,
            "wait_interval": 0
          }
        }
      },
      "cell_type": "code",
      "source": [
        "path = os.listdir('trainingSet/OfflineSignatures/Chinese/TrainingSet/Offline Genuine/')\n",
        "path.sort(key=str.lower)\n"
      ],
      "execution_count": 0,
      "outputs": []
    },
    {
      "metadata": {
        "id": "nGQRh2Q398xE",
        "colab_type": "code",
        "colab": {
          "autoexec": {
            "startup": false,
            "wait_interval": 0
          },
          "base_uri": "https://localhost:8080/",
          "height": 187
        },
        "outputId": "6cb0a785-4040-47b8-d4e1-d424479eca25",
        "executionInfo": {
          "status": "ok",
          "timestamp": 1525635562132,
          "user_tz": -330,
          "elapsed": 128732,
          "user": {
            "displayName": "Vaibhav Jade",
            "photoUrl": "https://lh3.googleusercontent.com/a/default-user=s128",
            "userId": "112426218802661198208"
          }
        }
      },
      "cell_type": "code",
      "source": [
        "x = []\n",
        "y = []\n",
        "\n",
        "j = k = 1\n",
        "arr = []\n",
        "path = os.listdir('trainingSet/OfflineSignatures/Chinese/TrainingSet/Offline Genuine/')\n",
        "path.sort(key=str.lower)\n",
        "\n",
        "for i in range(len(path)):\n",
        "    if(path[i][2] == str(j)):\n",
        "        img = cv2.imread('trainingSet/OfflineSignatures/Chinese/TrainingSet/Offline Genuine/'+path[i]+'')\n",
        "        #img  = cv2.cvtColor(img,cv2.COLOR_RGB2GRAY)\n",
        "        a = np.asarray(img)\n",
        "        a = Center(a,551,1117)\n",
        "        x.append(a)\n",
        "        y1 = np.zeros((10))\n",
        "        y1[j-1] = 1\n",
        "        y.append(y1)\n",
        "        k =k + 1\n",
        "    elif(j<10):\n",
        "        j = j + 1\n",
        "        print('j='+str(j))\n",
        "    else:\n",
        "        img = cv2.imread('trainingSet/OfflineSignatures/Chinese/TrainingSet/Offline Genuine/'+path[i]+'')\n",
        "        #img = cv2.cvtColor(img,cv2.COLOR_RGB2GRAY)\n",
        "        a = np.asarray(img)\n",
        "        a = Center(a,551,1117)\n",
        "        x.append(a)\n",
        "        y1 = np.zeros((10))\n",
        "        y1[j-1] = 1\n",
        "        y.append(y1)\n",
        "        k =k+1\n",
        "print('k='+str(k))        "
      ],
      "execution_count": 8,
      "outputs": [
        {
          "output_type": "stream",
          "text": [
            "j=2\n",
            "j=3\n",
            "j=4\n",
            "j=5\n",
            "j=6\n",
            "j=7\n",
            "j=8\n",
            "j=9\n",
            "j=10\n",
            "k=227\n"
          ],
          "name": "stdout"
        }
      ]
    },
    {
      "metadata": {
        "id": "-AEPlkhMMEYN",
        "colab_type": "code",
        "colab": {
          "autoexec": {
            "startup": false,
            "wait_interval": 0
          }
        }
      },
      "cell_type": "code",
      "source": [
        ""
      ],
      "execution_count": 0,
      "outputs": []
    },
    {
      "metadata": {
        "id": "1zW02ePvp_Jp",
        "colab_type": "code",
        "colab": {
          "autoexec": {
            "startup": false,
            "wait_interval": 0
          },
          "base_uri": "https://localhost:8080/",
          "height": 34
        },
        "outputId": "69e00e55-ed6e-4f9f-8dee-8744dec68d02",
        "executionInfo": {
          "status": "ok",
          "timestamp": 1525636307154,
          "user_tz": -330,
          "elapsed": 807,
          "user": {
            "displayName": "Vaibhav Jade",
            "photoUrl": "https://lh3.googleusercontent.com/a/default-user=s128",
            "userId": "112426218802661198208"
          }
        }
      },
      "cell_type": "code",
      "source": [
        "x[100].shape"
      ],
      "execution_count": 9,
      "outputs": [
        {
          "output_type": "execute_result",
          "data": {
            "text/plain": [
              "(551, 1117, 3)"
            ]
          },
          "metadata": {
            "tags": []
          },
          "execution_count": 9
        }
      ]
    },
    {
      "metadata": {
        "id": "wjnqAusoBI3j",
        "colab_type": "code",
        "colab": {
          "autoexec": {
            "startup": false,
            "wait_interval": 0
          },
          "base_uri": "https://localhost:8080/",
          "height": 272
        },
        "outputId": "4f6b5146-809e-4835-e593-35387d018dad",
        "executionInfo": {
          "status": "ok",
          "timestamp": 1523779819453,
          "user_tz": -330,
          "elapsed": 1783,
          "user": {
            "displayName": "Vaibhav Jade",
            "photoUrl": "https://lh3.googleusercontent.com/a/default-user=s128",
            "userId": "112426218802661198208"
          }
        }
      },
      "cell_type": "code",
      "source": [
        "from matplotlib import pyplot as plt\n",
        "plt.imshow(np.uint8(x[0]))\n",
        "plt.show()"
      ],
      "execution_count": 0,
      "outputs": [
        {
          "output_type": "display_data",
          "data": {
            "image/png": "[encoded data removed]",
            "text/plain": [
              "<matplotlib.figure.Figure at 0x7f5b98b1cad0>"
            ]
          },
          "metadata": {
            "tags": []
          }
        }
      ]
    },
    {
      "metadata": {
        "id": "8FAfJLPRFlsN",
        "colab_type": "code",
        "colab": {
          "autoexec": {
            "startup": false,
            "wait_interval": 0
          }
        }
      },
      "cell_type": "code",
      "source": [
        "import h5py\n"
      ],
      "execution_count": 0,
      "outputs": []
    },
    {
      "metadata": {
        "id": "9FpRlvcGoX3J",
        "colab_type": "code",
        "colab": {
          "autoexec": {
            "startup": false,
            "wait_interval": 0
          }
        }
      },
      "cell_type": "code",
      "source": [
        "hf = h5py.File('data_1.h5', 'w')\n",
        "hf.create_dataset('dataset_1', data=x)\n",
        "hf.create_dataset('dataset_2', data=y)\n",
        "hf.close()"
      ],
      "execution_count": 0,
      "outputs": []
    },
    {
      "metadata": {
        "id": "EZJUmDpDon8Z",
        "colab_type": "code",
        "colab": {
          "autoexec": {
            "startup": false,
            "wait_interval": 0
          },
          "base_uri": "https://localhost:8080/",
          "height": 34
        },
        "outputId": "c049d2d7-3615-4c26-fb18-e75b868f39cf",
        "executionInfo": {
          "status": "ok",
          "timestamp": 1525637396653,
          "user_tz": -330,
          "elapsed": 3344,
          "user": {
            "displayName": "Vaibhav Jade",
            "photoUrl": "https://lh3.googleusercontent.com/a/default-user=s128",
            "userId": "112426218802661198208"
          }
        }
      },
      "cell_type": "code",
      "source": [
        "!ls"
      ],
      "execution_count": 12,
      "outputs": [
        {
          "output_type": "stream",
          "text": [
            "data_1.h5  data.h5  model.ipynb  mycode.ipynb  trainingSet  trial.ipynb\r\n"
          ],
          "name": "stdout"
        }
      ]
    },
    {
      "metadata": {
        "id": "7W-EOcA1o0xp",
        "colab_type": "code",
        "colab": {
          "autoexec": {
            "startup": false,
            "wait_interval": 0
          },
          "base_uri": "https://localhost:8080/",
          "height": 119
        },
        "outputId": "e4169692-131b-46e6-96e7-7bb8c71460cc",
        "executionInfo": {
          "status": "ok",
          "timestamp": 1525812799404,
          "user_tz": -330,
          "elapsed": 4630606,
          "user": {
            "displayName": "Vaibhav Jade",
            "photoUrl": "https://lh3.googleusercontent.com/a/default-user=s128",
            "userId": "112426218802661198208"
          }
        }
      },
      "cell_type": "code",
      "source": [
        "!cp -r Testdata_SigComp2011 SOP/"
      ],
      "execution_count": 11,
      "outputs": [
        {
          "output_type": "stream",
          "text": [
            "cp: error reading 'Testdata_SigComp2011/SigComp11-Offlinetestset/Chinese/Questioned(487)/016/09_0113016.PNG': Input/output error\n",
            "cp: error reading 'Testdata_SigComp2011/SigComp11-Offlinetestset/Chinese/Questioned(487)/016/04_016.png': Input/output error\n",
            "cp: error reading 'Testdata_SigComp2011/SigComp11-Offlinetestset/Chinese/Questioned(487)/011/09_0100011.PNG': Input/output error\n",
            "cp: error reading 'Testdata_SigComp2011/SigComp11-Offlinetestset/Chinese/Questioned(487)/018/07_0115018.PNG': Input/output error\n",
            "cp: error reading 'Testdata_SigComp2011/SigComp11-Offlinetestset/Chinese/Questioned(487)/020/03_020.png': Input/output error\n",
            "^C\n"
          ],
          "name": "stdout"
        }
      ]
    },
    {
      "metadata": {
        "id": "v-XDBapzpcDC",
        "colab_type": "code",
        "colab": {
          "autoexec": {
            "startup": false,
            "wait_interval": 0
          },
          "base_uri": "https://localhost:8080/",
          "height": 34
        },
        "outputId": "4e5e3ae0-60fe-4a8d-ee67-0086fb967217",
        "executionInfo": {
          "status": "ok",
          "timestamp": 1523784297166,
          "user_tz": -330,
          "elapsed": 1500,
          "user": {
            "displayName": "Vaibhav Jade",
            "photoUrl": "https://lh3.googleusercontent.com/a/default-user=s128",
            "userId": "112426218802661198208"
          }
        }
      },
      "cell_type": "code",
      "source": [
        "x[0].shape"
      ],
      "execution_count": 0,
      "outputs": [
        {
          "output_type": "execute_result",
          "data": {
            "text/plain": [
              "(551, 1117)"
            ]
          },
          "metadata": {
            "tags": []
          },
          "execution_count": 20
        }
      ]
    },
    {
      "metadata": {
        "id": "vxvU9H8l1P8F",
        "colab_type": "code",
        "colab": {
          "autoexec": {
            "startup": false,
            "wait_interval": 0
          },
          "base_uri": "https://localhost:8080/",
          "height": 105
        },
        "outputId": "9dbe1736-4e9e-417d-9c18-450a24a3945a",
        "executionInfo": {
          "status": "ok",
          "timestamp": 1528104703043,
          "user_tz": -330,
          "elapsed": 26385,
          "user": {
            "displayName": "Vaibhav Jade",
            "photoUrl": "https://lh3.googleusercontent.com/a/default-user=s128",
            "userId": "112426218802661198208"
          }
        }
      },
      "cell_type": "code",
      "source": [
        "!apt-get install -y -qq software-properties-common python-software-properties module-init-tools\n",
        "!add-apt-repository -y ppa:alessandro-strada/ppa 2>&1 > /dev/null\n",
        "!apt-get update -qq 2>&1 > /dev/null\n",
        "!apt-get -y install -qq google-drive-ocamlfuse fuse\n",
        "from google.colab import auth\n",
        "auth.authenticate_user()\n",
        "from oauth2client.client import GoogleCredentials\n",
        "creds = GoogleCredentials.get_application_default()\n",
        "import getpass\n",
        "!google-drive-ocamlfuse -headless -id={creds.client_id} -secret={creds.client_secret} < /dev/null 2>&1 | grep URL\n",
        "vcode = getpass.getpass()\n",
        "!echo {vcode} | google-drive-ocamlfuse -headless -id={creds.client_id} -secret={creds.client_secret}"
      ],
      "execution_count": 1,
      "outputs": [
        {
          "output_type": "stream",
          "text": [
            "Please, open the following URL in a web browser: https://accounts.google.com/o/oauth2/auth?client_id=32555940559.apps.googleusercontent.com&redirect_uri=urn%3Aietf%3Awg%3Aoauth%3A2.0%3Aoob&scope=https%3A%2F%2Fwww.googleapis.com%2Fauth%2Fdrive&response_type=code&access_type=offline&approval_prompt=force\r\n",
            "··········\n",
            "Please, open the following URL in a web browser: https://accounts.google.com/o/oauth2/auth?client_id=32555940559.apps.googleusercontent.com&redirect_uri=urn%3Aietf%3Awg%3Aoauth%3A2.0%3Aoob&scope=https%3A%2F%2Fwww.googleapis.com%2Fauth%2Fdrive&response_type=code&access_type=offline&approval_prompt=force\n",
            "Please enter the verification code: Access token retrieved correctly.\n"
          ],
          "name": "stdout"
        }
      ]
    },
    {
      "metadata": {
        "id": "M6fKswy9IiDD",
        "colab_type": "code",
        "colab": {
          "autoexec": {
            "startup": false,
            "wait_interval": 0
          }
        }
      },
      "cell_type": "code",
      "source": [
        "!mkdir -p drive\n",
        "!google-drive-ocamlfuse drive"
      ],
      "execution_count": 0,
      "outputs": []
    },
    {
      "metadata": {
        "id": "zj1td8lyJCyk",
        "colab_type": "code",
        "colab": {
          "autoexec": {
            "startup": false,
            "wait_interval": 0
          }
        }
      },
      "cell_type": "code",
      "source": [
        "import os\n",
        "os.chdir('drive/SOP')"
      ],
      "execution_count": 0,
      "outputs": []
    },
    {
      "metadata": {
        "id": "XhkdGpwKJEVV",
        "colab_type": "code",
        "colab": {
          "autoexec": {
            "startup": false,
            "wait_interval": 0
          },
          "base_uri": "https://localhost:8080/",
          "height": 136
        },
        "outputId": "98981a26-91f6-45bf-f0ab-5c941abb1ac9",
        "executionInfo": {
          "status": "ok",
          "timestamp": 1528127366985,
          "user_tz": -330,
          "elapsed": 6420,
          "user": {
            "displayName": "Vaibhav Jade",
            "photoUrl": "https://lh3.googleusercontent.com/a/default-user=s128",
            "userId": "112426218802661198208"
          }
        }
      },
      "cell_type": "code",
      "source": [
        "!ls"
      ],
      "execution_count": 17,
      "outputs": [
        {
          "output_type": "stream",
          "text": [
            "100epochs_3channel.h5  data_s_gen.h5\t\t  Testdata_SigComp2011\r\n",
            "data_1.h5\t       data_siamese_forge.pickle  trainingSet\r\n",
            "data.h5\t\t       data_siamese_gen.pickle\t  tranfer_20ep_l2+dropout.h5\r\n",
            "data_s_forge1\t       data_siamese.h5\t\t  tranfer_20ep_l2reg.h5\r\n",
            "data_s_forge1.h5       data_siamese.pickle\t  tranfer_20ep_overfit.h5\r\n",
            "data_s_gen1\t       model.ipynb\t\t  trial.ipynb\r\n",
            "data_s_gen1.h5\t       mycode.ipynb\r\n"
          ],
          "name": "stdout"
        }
      ]
    },
    {
      "metadata": {
        "id": "zdqos_PS4JeP",
        "colab_type": "code",
        "colab": {
          "autoexec": {
            "startup": false,
            "wait_interval": 0
          }
        }
      },
      "cell_type": "code",
      "source": [
        "list.sort?"
      ],
      "execution_count": 0,
      "outputs": []
    },
    {
      "metadata": {
        "id": "wQ2fFoy71TE3",
        "colab_type": "code",
        "colab": {
          "autoexec": {
            "startup": false,
            "wait_interval": 0
          },
          "base_uri": "https://localhost:8080/",
          "height": 5797
        },
        "outputId": "00f867ce-549d-41ab-9805-28d527e14ec9",
        "executionInfo": {
          "status": "ok",
          "timestamp": 1525717249592,
          "user_tz": -330,
          "elapsed": 1222,
          "user": {
            "displayName": "Vaibhav Jade",
            "photoUrl": "https://lh3.googleusercontent.com/a/default-user=s128",
            "userId": "112426218802661198208"
          }
        }
      },
      "cell_type": "code",
      "source": [
        "path = os.listdir('trainingSet/OfflineSignatures/Chinese/TrainingSet/Offline Forgeries/')\n",
        "path.sort(key = str.lower)\n",
        "path"
      ],
      "execution_count": 18,
      "outputs": [
        {
          "output_type": "execute_result",
          "data": {
            "text/plain": [
              "['0100003_1.png',\n",
              " '0100003_10.png',\n",
              " '0100003_11.png',\n",
              " '0100003_12.png',\n",
              " '0100003_2.png',\n",
              " '0100003_3.png',\n",
              " '0100003_4.png',\n",
              " '0100003_5.png',\n",
              " '0100003_6.png',\n",
              " '0100003_7.png',\n",
              " '0100003_8.png',\n",
              " '0100003_9.png',\n",
              " '0101004_1.png',\n",
              " '0101004_10.png',\n",
              " '0101004_11.png',\n",
              " '0101004_12.png',\n",
              " '0101004_2.png',\n",
              " '0101004_3.png',\n",
              " '0101004_4.png',\n",
              " '0101004_5.png',\n",
              " '0101004_6.png',\n",
              " '0101004_7.png',\n",
              " '0101004_8.png',\n",
              " '0101004_9.png',\n",
              " '0103002_1.png',\n",
              " '0103002_10.png',\n",
              " '0103002_11.png',\n",
              " '0103002_12.png',\n",
              " '0103002_13.png',\n",
              " '0103002_2.png',\n",
              " '0103002_3.png',\n",
              " '0103002_4.png',\n",
              " '0103002_6.png',\n",
              " '0103002_7.png',\n",
              " '0103002_8.png',\n",
              " '0103002_9.png',\n",
              " '0104006_1.png',\n",
              " '0104006_11.png',\n",
              " '0104006_12.png',\n",
              " '0104006_2.png',\n",
              " '0104006_3.png',\n",
              " '0104006_4.png',\n",
              " '0104006_5.png',\n",
              " '0104006_6.png',\n",
              " '0104006_7.png',\n",
              " '0104006_8.png',\n",
              " '0104006_9.png',\n",
              " '0108008_1.png',\n",
              " '0108008_10.png',\n",
              " '0108008_11.png',\n",
              " '0108008_12.png',\n",
              " '0108008_2.png',\n",
              " '0108008_3.png',\n",
              " '0108008_4.png',\n",
              " '0108008_5.png',\n",
              " '0108008_6.png',\n",
              " '0108008_7.png',\n",
              " '0108008_8.png',\n",
              " '0108008_9.png',\n",
              " '0109001_1.png',\n",
              " '0109001_10.png',\n",
              " '0109001_11.png',\n",
              " '0109001_12.png',\n",
              " '0109001_2.png',\n",
              " '0109001_3.png',\n",
              " '0109001_4.png',\n",
              " '0109001_5.png',\n",
              " '0109001_6.png',\n",
              " '0109001_7.png',\n",
              " '0109001_8.png',\n",
              " '0109001_9.png',\n",
              " '0109002_1.png',\n",
              " '0109002_10.png',\n",
              " '0109002_11.png',\n",
              " '0109002_2.png',\n",
              " '0109002_3.png',\n",
              " '0109002_4.png',\n",
              " '0109002_5.png',\n",
              " '0109002_6.png',\n",
              " '0109002_7.png',\n",
              " '0109002_8.png',\n",
              " '0109003_1.png',\n",
              " '0109003_10.png',\n",
              " '0109003_11.png',\n",
              " '0109003_12.png',\n",
              " '0109003_2.png',\n",
              " '0109003_3.png',\n",
              " '0109003_4.png',\n",
              " '0109003_5.png',\n",
              " '0109003_6.png',\n",
              " '0109003_7.png',\n",
              " '0109003_8.png',\n",
              " '0109003_9.png',\n",
              " '0109004_1.png',\n",
              " '0109004_10.png',\n",
              " '0109004_11.png',\n",
              " '0109004_12.png',\n",
              " '0109004_2.png',\n",
              " '0109004_3.png',\n",
              " '0109004_4.png',\n",
              " '0109004_5.png',\n",
              " '0109004_6.png',\n",
              " '0109004_7.png',\n",
              " '0109004_8.png',\n",
              " '0109004_9.png',\n",
              " '0109005_10.png',\n",
              " '0109005_11.png',\n",
              " '0109005_12.png',\n",
              " '0109005_13.png',\n",
              " '0109005_14.png',\n",
              " '0109005_3.png',\n",
              " '0109005_4.png',\n",
              " '0109005_5.png',\n",
              " '0109005_8.png',\n",
              " '0109005_9.png',\n",
              " '0109006_1.png',\n",
              " '0109006_10.png',\n",
              " '0109006_11.png',\n",
              " '0109006_12.png',\n",
              " '0109006_2.png',\n",
              " '0109006_3.png',\n",
              " '0109006_4.png',\n",
              " '0109006_5.png',\n",
              " '0109006_6.png',\n",
              " '0109006_7.png',\n",
              " '0109006_8.png',\n",
              " '0109006_9.png',\n",
              " '0109007_10.png',\n",
              " '0109007_11.png',\n",
              " '0109007_2.png',\n",
              " '0109007_3.png',\n",
              " '0109007_4.png',\n",
              " '0109007_5.png',\n",
              " '0109007_6.png',\n",
              " '0109007_7.png',\n",
              " '0109007_8.png',\n",
              " '0109007_9.png',\n",
              " '0110005_1.png',\n",
              " '0110005_10.png',\n",
              " '0110005_11.png',\n",
              " '0110005_12.png',\n",
              " '0110005_2.png',\n",
              " '0110005_3.png',\n",
              " '0110005_4.png',\n",
              " '0110005_5.png',\n",
              " '0110005_6.png',\n",
              " '0110005_7.png',\n",
              " '0110005_8.png',\n",
              " '0110005_9.png',\n",
              " '0110009_1.png',\n",
              " '0110009_10.png',\n",
              " '0110009_11.png',\n",
              " '0110009_12.png',\n",
              " '0110009_2.png',\n",
              " '0110009_3.png',\n",
              " '0110009_4.png',\n",
              " '0110009_5.png',\n",
              " '0110009_6.png',\n",
              " '0110009_7.png',\n",
              " '0110009_8.png',\n",
              " '0110009_9.png',\n",
              " '0111010_10.png',\n",
              " '0111010_11.png',\n",
              " '0111010_12.png',\n",
              " '0111010_2.png',\n",
              " '0111010_3.png',\n",
              " '0111010_4.png',\n",
              " '0111010_5.png',\n",
              " '0111010_6.png',\n",
              " '0111010_7.png',\n",
              " '0111010_8.png',\n",
              " '0111010_9.png',\n",
              " '0112004_1.png',\n",
              " '0112004_10.png',\n",
              " '0112004_11.png',\n",
              " '0112004_12.png',\n",
              " '0112004_2.png',\n",
              " '0112004_3.png',\n",
              " '0112004_4.png',\n",
              " '0112004_5.png',\n",
              " '0112004_6.png',\n",
              " '0112004_7.png',\n",
              " '0112004_8.png',\n",
              " '0112004_9.png',\n",
              " '0112010_1.png',\n",
              " '0112010_10.png',\n",
              " '0112010_11.png',\n",
              " '0112010_12.png',\n",
              " '0112010_2.png',\n",
              " '0112010_3.png',\n",
              " '0112010_4.png',\n",
              " '0112010_5.png',\n",
              " '0112010_6.png',\n",
              " '0112010_7.png',\n",
              " '0112010_8.png',\n",
              " '0112010_9.png',\n",
              " '0113001_1.png',\n",
              " '0113001_10.png',\n",
              " '0113001_11.png',\n",
              " '0113001_12.png',\n",
              " '0113001_2.png',\n",
              " '0113001_3.png',\n",
              " '0113001_4.png',\n",
              " '0113001_5.png',\n",
              " '0113001_6.png',\n",
              " '0113001_7.png',\n",
              " '0113001_8.png',\n",
              " '0113001_9.png',\n",
              " '0113003_1.png',\n",
              " '0113003_10.png',\n",
              " '0113003_11.png',\n",
              " '0113003_12.png',\n",
              " '0113003_2.png',\n",
              " '0113003_3.png',\n",
              " '0113003_4.png',\n",
              " '0113003_5.png',\n",
              " '0113003_6.png',\n",
              " '0113003_7.png',\n",
              " '0113003_8.png',\n",
              " '0113003_9.png',\n",
              " '0113005_1.png',\n",
              " '0113005_10.png',\n",
              " '0113005_11.png',\n",
              " '0113005_12.png',\n",
              " '0113005_2.png',\n",
              " '0113005_3.png',\n",
              " '0113005_4.png',\n",
              " '0113005_5.png',\n",
              " '0113005_6.png',\n",
              " '0113005_7.png',\n",
              " '0113005_8.png',\n",
              " '0113005_9.png',\n",
              " '0113006_1.png',\n",
              " '0113006_10.png',\n",
              " '0113006_11.png',\n",
              " '0113006_12.png',\n",
              " '0113006_2.png',\n",
              " '0113006_3.png',\n",
              " '0113006_4.png',\n",
              " '0113006_5.png',\n",
              " '0113006_6.png',\n",
              " '0113006_7.png',\n",
              " '0113006_8.png',\n",
              " '0113006_9.png',\n",
              " '0113007_1.png',\n",
              " '0113007_10.png',\n",
              " '0113007_11.png',\n",
              " '0113007_12.png',\n",
              " '0113007_2.png',\n",
              " '0113007_3.png',\n",
              " '0113007_4.png',\n",
              " '0113007_5.png',\n",
              " '0113007_6.png',\n",
              " '0113007_7.png',\n",
              " '0113007_8.png',\n",
              " '0113007_9.png',\n",
              " '0113009_1.png',\n",
              " '0113009_10.png',\n",
              " '0113009_11.png',\n",
              " '0113009_12.png',\n",
              " '0113009_2.png',\n",
              " '0113009_3.png',\n",
              " '0113009_4.png',\n",
              " '0113009_5.png',\n",
              " '0113009_6.png',\n",
              " '0113009_7.png',\n",
              " '0113009_8.png',\n",
              " '0113009_9.png',\n",
              " '0114008_1.png',\n",
              " '0114008_10.png',\n",
              " '0114008_11.png',\n",
              " '0114008_12.png',\n",
              " '0114008_2.png',\n",
              " '0114008_3.png',\n",
              " '0114008_4.png',\n",
              " '0114008_5.png',\n",
              " '0114008_6.png',\n",
              " '0114008_7.png',\n",
              " '0114008_8.png',\n",
              " '0114008_9.png',\n",
              " '0116001_1.png',\n",
              " '0116001_10.png',\n",
              " '0116001_11.png',\n",
              " '0116001_12.png',\n",
              " '0116001_2.png',\n",
              " '0116001_3.png',\n",
              " '0116001_4.png',\n",
              " '0116001_5.png',\n",
              " '0116001_6.png',\n",
              " '0116001_7.png',\n",
              " '0116001_8.png',\n",
              " '0116001_9.png',\n",
              " '0116002_1.png',\n",
              " '0116002_10.png',\n",
              " '0116002_11.png',\n",
              " '0116002_12.png',\n",
              " '0116002_2.png',\n",
              " '0116002_3.png',\n",
              " '0116002_4.png',\n",
              " '0116002_5.png',\n",
              " '0116002_6.png',\n",
              " '0116002_7.png',\n",
              " '0116002_8.png',\n",
              " '0116002_9.png',\n",
              " '0116007_1.png',\n",
              " '0116007_10.png',\n",
              " '0116007_11.png',\n",
              " '0116007_12.png',\n",
              " '0116007_2.png',\n",
              " '0116007_3.png',\n",
              " '0116007_4.png',\n",
              " '0116007_5.png',\n",
              " '0116007_6.png',\n",
              " '0116007_7.png',\n",
              " '0116007_8.png',\n",
              " '0116007_9.png',\n",
              " '0116008_1.png',\n",
              " '0116008_10.png',\n",
              " '0116008_11.png',\n",
              " '0116008_12.png',\n",
              " '0116008_2.png',\n",
              " '0116008_3.png',\n",
              " '0116008_4.png',\n",
              " '0116008_5.png',\n",
              " '0116008_6.png',\n",
              " '0116008_7.png',\n",
              " '0116008_8.png',\n",
              " '0116008_9.png',\n",
              " '0116009_1.png',\n",
              " '0116009_10.png',\n",
              " '0116009_11.png',\n",
              " '0116009_12.png',\n",
              " '0116009_2.png',\n",
              " '0116009_3.png',\n",
              " '0116009_4.png',\n",
              " '0116009_5.png',\n",
              " '0116009_6.png',\n",
              " '0116009_7.png',\n",
              " '0116009_8.png',\n",
              " '0116009_9.png']"
            ]
          },
          "metadata": {
            "tags": []
          },
          "execution_count": 18
        }
      ]
    },
    {
      "metadata": {
        "id": "FpULGR1j3XlJ",
        "colab_type": "code",
        "colab": {
          "autoexec": {
            "startup": false,
            "wait_interval": 0
          },
          "base_uri": "https://localhost:8080/",
          "height": 34
        },
        "outputId": "7dd6676b-35c2-484a-c6ab-c9302909a6e6",
        "executionInfo": {
          "status": "ok",
          "timestamp": 1525717799463,
          "user_tz": -330,
          "elapsed": 1156,
          "user": {
            "displayName": "Vaibhav Jade",
            "photoUrl": "https://lh3.googleusercontent.com/a/default-user=s128",
            "userId": "112426218802661198208"
          }
        }
      },
      "cell_type": "code",
      "source": [
        "path[0][4:7]"
      ],
      "execution_count": 20,
      "outputs": [
        {
          "output_type": "execute_result",
          "data": {
            "text/plain": [
              "'003'"
            ]
          },
          "metadata": {
            "tags": []
          },
          "execution_count": 20
        }
      ]
    },
    {
      "metadata": {
        "id": "Fd6-3x7IJOC7",
        "colab_type": "code",
        "colab": {
          "autoexec": {
            "startup": false,
            "wait_interval": 0
          },
          "base_uri": "https://localhost:8080/",
          "height": 187
        },
        "outputId": "2a9dd201-42d4-418d-f680-df2495cfcbad",
        "executionInfo": {
          "status": "ok",
          "timestamp": 1528127393673,
          "user_tz": -330,
          "elapsed": 1306,
          "user": {
            "displayName": "Vaibhav Jade",
            "photoUrl": "https://lh3.googleusercontent.com/a/default-user=s128",
            "userId": "112426218802661198208"
          }
        }
      },
      "cell_type": "code",
      "source": [
        "x = []\n",
        "\n",
        "a = b = 0 \n",
        "path = os.listdir('trainingSet/OfflineSignatures/Chinese/TrainingSet/Offline Forgeries/')\n",
        "path.sort(key = str.lower)\n",
        "\n",
        "for i in range(10):\n",
        "  y = []\n",
        "  for j in range(b,len(path)):\n",
        "    if(path[j][3:6] == str(i+1).zfill(2)):\n",
        "        img = cv2.imread('trainingSet/OfflineSignatures/Chinese/TrainingSet/Offline Forgeries/'+path[j]+'')\n",
        "        img  = cv2.cvtColor(img,cv2.COLOR_RGB2GRAY)\n",
        "        arr = np.asarray(img)\n",
        "        arr = Center(arr,551,1117)\n",
        "        y.append(arr)\n",
        "        a = a + 1\n",
        "        print(a)\n",
        "        if(a==235):\n",
        "          x.append(y)\n",
        "    else:\n",
        "      print('...............')\n",
        "      x.append(y)\n",
        "      b = a\n",
        "      break"
      ],
      "execution_count": 18,
      "outputs": [
        {
          "output_type": "stream",
          "text": [
            "...............\n",
            "...............\n",
            "...............\n",
            "...............\n",
            "...............\n",
            "...............\n",
            "...............\n",
            "...............\n",
            "...............\n",
            "...............\n"
          ],
          "name": "stdout"
        }
      ]
    },
    {
      "metadata": {
        "id": "Be0zr4RGOAi7",
        "colab_type": "code",
        "colab": {
          "autoexec": {
            "startup": false,
            "wait_interval": 0
          }
        }
      },
      "cell_type": "code",
      "source": [
        "x = np.asarray(x)"
      ],
      "execution_count": 0,
      "outputs": []
    },
    {
      "metadata": {
        "id": "23GqdSGafcDT",
        "colab_type": "code",
        "colab": {
          "autoexec": {
            "startup": false,
            "wait_interval": 0
          },
          "base_uri": "https://localhost:8080/",
          "height": 34
        },
        "outputId": "2d135399-332d-4ad8-f475-47f725ef51da",
        "executionInfo": {
          "status": "ok",
          "timestamp": 1528127417569,
          "user_tz": -330,
          "elapsed": 4559,
          "user": {
            "displayName": "Vaibhav Jade",
            "photoUrl": "https://lh3.googleusercontent.com/a/default-user=s128",
            "userId": "112426218802661198208"
          }
        }
      },
      "cell_type": "code",
      "source": [
        "x.shape"
      ],
      "execution_count": 20,
      "outputs": [
        {
          "output_type": "execute_result",
          "data": {
            "text/plain": [
              "(10, 0)"
            ]
          },
          "metadata": {
            "tags": []
          },
          "execution_count": 20
        }
      ]
    },
    {
      "metadata": {
        "id": "sTHOGaCQ5LKe",
        "colab_type": "code",
        "colab": {
          "autoexec": {
            "startup": false,
            "wait_interval": 0
          }
        }
      },
      "cell_type": "code",
      "source": [
        "hf.close()"
      ],
      "execution_count": 0,
      "outputs": []
    },
    {
      "metadata": {
        "id": "JxobspYE00qE",
        "colab_type": "code",
        "colab": {
          "autoexec": {
            "startup": false,
            "wait_interval": 0
          }
        }
      },
      "cell_type": "code",
      "source": [
        "hf = h5py.File('data_s_forge1.h5', 'w')\n",
        "hf.create_dataset('dataset_1', data=x)\n",
        "hf.close()"
      ],
      "execution_count": 0,
      "outputs": []
    },
    {
      "metadata": {
        "id": "dGjucjUhD6FQ",
        "colab_type": "code",
        "colab": {
          "autoexec": {
            "startup": false,
            "wait_interval": 0
          },
          "base_uri": "https://localhost:8080/",
          "height": 401
        },
        "outputId": "f85273b9-e4e4-43e7-c3c7-2e330fdab889",
        "executionInfo": {
          "status": "error",
          "timestamp": 1524417586178,
          "user_tz": -330,
          "elapsed": 1819,
          "user": {
            "displayName": "Vaibhav Jade",
            "photoUrl": "https://lh3.googleusercontent.com/a/default-user=s128",
            "userId": "112426218802661198208"
          }
        }
      },
      "cell_type": "code",
      "source": [
        "c = 0\n",
        "for d in range(10):\n",
        "   print(len(x[d]))\n",
        "   c= c + len(x[d])\n",
        "print(c)    "
      ],
      "execution_count": 82,
      "outputs": [
        {
          "output_type": "stream",
          "text": [
            "24\n",
            "24\n",
            "24\n",
            "24\n",
            "21\n",
            "22\n",
            "24\n",
            "24\n",
            "24\n",
            "0\n"
          ],
          "name": "stdout"
        },
        {
          "output_type": "error",
          "ename": "IndexError",
          "evalue": "ignored",
          "traceback": [
            "\u001b[0;31m\u001b[0m",
            "\u001b[0;31mIndexError\u001b[0mTraceback (most recent call last)",
            "\u001b[0;32m<ipython-input-82-7900ab8a4f1c>\u001b[0m in \u001b[0;36m<module>\u001b[0;34m()\u001b[0m\n\u001b[1;32m      1\u001b[0m \u001b[0mc\u001b[0m \u001b[0;34m=\u001b[0m \u001b[0;36m0\u001b[0m\u001b[0;34m\u001b[0m\u001b[0m\n\u001b[1;32m      2\u001b[0m \u001b[0;32mfor\u001b[0m \u001b[0md\u001b[0m \u001b[0;32min\u001b[0m \u001b[0mrange\u001b[0m\u001b[0;34m(\u001b[0m\u001b[0;36m11\u001b[0m\u001b[0;34m)\u001b[0m\u001b[0;34m:\u001b[0m\u001b[0;34m\u001b[0m\u001b[0m\n\u001b[0;32m----> 3\u001b[0;31m    \u001b[0;32mprint\u001b[0m\u001b[0;34m(\u001b[0m\u001b[0mlen\u001b[0m\u001b[0;34m(\u001b[0m\u001b[0mx\u001b[0m\u001b[0;34m[\u001b[0m\u001b[0md\u001b[0m\u001b[0;34m]\u001b[0m\u001b[0;34m)\u001b[0m\u001b[0;34m)\u001b[0m\u001b[0;34m\u001b[0m\u001b[0m\n\u001b[0m\u001b[1;32m      4\u001b[0m    \u001b[0mc\u001b[0m\u001b[0;34m=\u001b[0m \u001b[0mc\u001b[0m \u001b[0;34m+\u001b[0m \u001b[0mlen\u001b[0m\u001b[0;34m(\u001b[0m\u001b[0mx\u001b[0m\u001b[0;34m[\u001b[0m\u001b[0md\u001b[0m\u001b[0;34m]\u001b[0m\u001b[0;34m)\u001b[0m\u001b[0;34m\u001b[0m\u001b[0m\n\u001b[1;32m      5\u001b[0m \u001b[0;32mprint\u001b[0m\u001b[0;34m(\u001b[0m\u001b[0mc\u001b[0m\u001b[0;34m)\u001b[0m\u001b[0;34m\u001b[0m\u001b[0m\n",
            "\u001b[0;31mIndexError\u001b[0m: list index out of range"
          ]
        }
      ]
    },
    {
      "metadata": {
        "id": "UW8kHQSDgecu",
        "colab_type": "code",
        "colab": {
          "autoexec": {
            "startup": false,
            "wait_interval": 0
          },
          "base_uri": "https://localhost:8080/",
          "height": 272
        },
        "outputId": "6a49f1cd-1c74-4b80-a2e5-5ddb62b092bd",
        "executionInfo": {
          "status": "ok",
          "timestamp": 1524412459447,
          "user_tz": -330,
          "elapsed": 2071,
          "user": {
            "displayName": "Vaibhav Jade",
            "photoUrl": "https://lh3.googleusercontent.com/a/default-user=s128",
            "userId": "112426218802661198208"
          }
        }
      },
      "cell_type": "code",
      "source": [
        "from matplotlib import pyplot as plt\n",
        "plt.imshow(np.uint8(x[1][0]))\n",
        "plt.show()"
      ],
      "execution_count": 25,
      "outputs": [
        {
          "output_type": "display_data",
          "data": {
            "image/png": "[encoded data removed]",
            "text/plain": [
              "<matplotlib.figure.Figure at 0x7ff3b55bff10>"
            ]
          },
          "metadata": {
            "tags": []
          }
        }
      ]
    },
    {
      "metadata": {
        "id": "OTXJbNlPlrH9",
        "colab_type": "code",
        "colab": {
          "autoexec": {
            "startup": false,
            "wait_interval": 0
          }
        }
      },
      "cell_type": "code",
      "source": [
        ""
      ],
      "execution_count": 0,
      "outputs": []
    }
  ]
}